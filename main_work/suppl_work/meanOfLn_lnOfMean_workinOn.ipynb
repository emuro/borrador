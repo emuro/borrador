{
 "cells": [
  {
   "cell_type": "markdown",
   "id": "819bd65b-f5b5-4644-a058-0a8c843d4fe8",
   "metadata": {},
   "source": [
    "# Observed $<log L>$ vs. ${}$ $log <L>$ \n",
    "**in the protein coding gene/protein length distributions for the different species**"
   ]
  },
  {
   "cell_type": "markdown",
   "id": "8046a185-31f3-48b1-83f7-947911a96d15",
   "metadata": {},
   "source": [
    "## Import python modules"
   ]
  },
  {
   "cell_type": "code",
   "execution_count": 13,
   "id": "51b0a90c",
   "metadata": {},
   "outputs": [],
   "source": [
    "import pandas as pd\n",
    "import numpy as np\n",
    "import matplotlib.pyplot as plt\n",
    "\n",
    "#from scipy import stats\n",
    "import sys\n",
    "sys.path.append('../../gl_lib/')\n",
    "import gl_constants as c\n",
    "\n",
    "BOOL_GENES_OR_PROTEINS = \"GENES\" # GENES or PROTEINS"
   ]
  },
  {
   "cell_type": "markdown",
   "id": "c7b6d3b5",
   "metadata": {},
   "source": [
    "## The length distributions for the different species"
   ]
  },
  {
   "cell_type": "markdown",
   "id": "d509543a-9bbf-4428-bb98-a287201ef79d",
   "metadata": {},
   "source": [
    "### Retrieving the statistical descriptions of the length's distributions"
   ]
  },
  {
   "cell_type": "markdown",
   "id": "3a99f2a8-5073-440f-88be-bf0def58ea9d",
   "metadata": {
    "tags": []
   },
   "source": [
    "#### Statistical description "
   ]
  },
  {
   "cell_type": "code",
   "execution_count": 14,
   "id": "e96ab72e-e702-4020-814a-625c86dd44ee",
   "metadata": {},
   "outputs": [
    {
     "name": "stdout",
     "output_type": "stream",
     "text": [
      "The statistical descriptions of the distributions is in:\n",
      " /home/emuro/git/github/borrador/main_work/suppl_work/../../gl_lib/../main_tables/stat_protCodGenes.tsv \n",
      "\n"
     ]
    },
    {
     "data": {
      "text/html": [
       "<div>\n",
       "<style scoped>\n",
       "    .dataframe tbody tr th:only-of-type {\n",
       "        vertical-align: middle;\n",
       "    }\n",
       "\n",
       "    .dataframe tbody tr th {\n",
       "        vertical-align: top;\n",
       "    }\n",
       "\n",
       "    .dataframe thead th {\n",
       "        text-align: right;\n",
       "    }\n",
       "</style>\n",
       "<table border=\"1\" class=\"dataframe\">\n",
       "  <thead>\n",
       "    <tr style=\"text-align: right;\">\n",
       "      <th></th>\n",
       "      <th>division_both_dbs</th>\n",
       "      <th>species</th>\n",
       "      <th>count</th>\n",
       "      <th>mean</th>\n",
       "      <th>mean_of_log10</th>\n",
       "    </tr>\n",
       "  </thead>\n",
       "  <tbody>\n",
       "    <tr>\n",
       "      <th>26163</th>\n",
       "      <td>bacteria</td>\n",
       "      <td>roseobacter_sp__gca_002731875</td>\n",
       "      <td>3945</td>\n",
       "      <td>929.666413</td>\n",
       "      <td>2.883663</td>\n",
       "    </tr>\n",
       "    <tr>\n",
       "      <th>3015</th>\n",
       "      <td>bacteria</td>\n",
       "      <td>escherichia_coli_gca_002263825</td>\n",
       "      <td>5012</td>\n",
       "      <td>851.274342</td>\n",
       "      <td>2.815221</td>\n",
       "    </tr>\n",
       "  </tbody>\n",
       "</table>\n",
       "</div>"
      ],
      "text/plain": [
       "      division_both_dbs                         species  count        mean  \\\n",
       "26163          bacteria   roseobacter_sp__gca_002731875   3945  929.666413   \n",
       "3015           bacteria  escherichia_coli_gca_002263825   5012  851.274342   \n",
       "\n",
       "       mean_of_log10  \n",
       "26163       2.883663  \n",
       "3015        2.815221  "
      ]
     },
     "metadata": {},
     "output_type": "display_data"
    },
    {
     "name": "stdout",
     "output_type": "stream",
     "text": [
      "(33627, 5)\n",
      "division_both_dbs\n",
      "bacteria         30714\n",
      "archaea           1229\n",
      "fungi             1014\n",
      "protists           237\n",
      "vertebrates        222\n",
      "invertebrates      115\n",
      "plants              96\n",
      "Name: count, dtype: int64\n"
     ]
    }
   ],
   "source": [
    "# statistics on length distributions \n",
    "if BOOL_GENES_OR_PROTEINS == \"GENES\":\n",
    "    stat_file = c.STAT_G_FILE\n",
    "elif BOOL_GENES_OR_PROTEINS == \"PROTEINS\":\n",
    "    stat_file = c.STAT_P_FILE\n",
    "print(\"The statistical descriptions of the distributions is in:\\n\", \\\n",
    "    stat_file, \"\\n\")\n",
    "\n",
    "# retrieve data and diminish the number of columns\n",
    "stat_df = pd.read_csv(stat_file, low_memory=False, sep=\"\\t\")\n",
    "stat_df = stat_df[[\"division_both_dbs\", \"species\", \"count\", \"mean\", \"log10_mean\"]]\n",
    "stat_df = stat_df.rename(columns={'log10_mean': 'mean_of_log10'})\n",
    "\n",
    "# visualize data\n",
    "if 1:\n",
    "    pd.set_option('display.max_columns', len(stat_df.columns))\n",
    "    display(stat_df.sample(2))\n",
    "    print(stat_df.shape)\n",
    "    print(stat_df[\"division_both_dbs\"].value_counts())"
   ]
  },
  {
   "cell_type": "markdown",
   "id": "423073b9-ee4c-40ab-8e3d-4fcb0377f016",
   "metadata": {},
   "source": [
    "## $<log L>$ vs. ${}$ $log <L>$; represented in $log$ (or $ln$) scale"
   ]
  },
  {
   "cell_type": "markdown",
   "id": "345aba67",
   "metadata": {},
   "source": [
    "Prepare the plot"
   ]
  },
  {
   "cell_type": "code",
   "execution_count": 15,
   "id": "65579e1f-b037-4b15-969a-784548fe216a",
   "metadata": {},
   "outputs": [
    {
     "name": "stdout",
     "output_type": "stream",
     "text": [
      "m = 1.2013092120587274, b=-1.1115558570211972\n",
      "$R^{2}$ = 0.9680\n"
     ]
    }
   ],
   "source": [
    "df2plot = stat_df\n",
    "df2plot[\"mean_of_ln\"]    = df2plot[\"mean_of_log10\"] * (1/np.log10(np.exp(1)))\n",
    "df2plot[\"ln_of_mean\"]    = np.log(df2plot[\"mean\"])\n",
    "if BOOL_GENES_OR_PROTEINS == \"GENES\":\n",
    "    title = \"Protein coding genes\"\n",
    "elif BOOL_GENES_OR_PROTEINS == \"PROTEINS\":\n",
    "    title = \"Proteins\" # \"Uniprot, reference Proteomes (protein length)\"\n",
    "\n",
    "col_x = \"mean_of_ln\"  \n",
    "x_lab = \"$<ln L>$\"  \n",
    "col_y = \"ln_of_mean\"  \n",
    "y_lab = \"$ln <L>$\"\n",
    "legends_by = \"division_both_dbs\"\n",
    "\n",
    "bool_show_regression = True\n",
    "#obtain m (slope) and b(intercept) of linear regression line\n",
    "m, b = np.polyfit(df2plot[col_x].to_list(), df2plot[col_y].to_list(), 1)\n",
    "\n",
    "from scipy import stats\n",
    "#slope, intercept, r_value, p_value, std_err = \\\n",
    "m, b, r_value, p_value, std_err = \\\n",
    "    stats.linregress(df2plot[col_x], df2plot[col_y])\n",
    "   ##stats.linregress(np.log10(df2plot[col_x]),np.log10(df2plot[col_y]))\n",
    "print(f\"m = {m}, b={b}\") \n",
    "in_txt = '$R^{2}$ = ' + '{:2.4f}'.format(r_value**2)\n",
    "print(in_txt) \n",
    "\n",
    "# Sort division_both_dbs in order to plot the color of the clades in order\n",
    "if 0:\n",
    "    print(df2plot.division_both_dbs.unique())\n",
    "df2plot.division_both_dbs = pd.Categorical(df2plot.division_both_dbs, \n",
    "                                categories=c.ORG_GROUPS,           \n",
    "                                ordered=True)\n",
    "df2plot.sort_values('division_both_dbs', inplace=True)"
   ]
  },
  {
   "cell_type": "markdown",
   "id": "066cc7bc",
   "metadata": {},
   "source": [
    "Finally, plot it"
   ]
  },
  {
   "cell_type": "code",
   "execution_count": 16,
   "id": "fee6b600",
   "metadata": {},
   "outputs": [
    {
     "data": {
      "image/png": "[encoded data removed]",
      "text/plain": [
       "<Figure size 640x480 with 1 Axes>"
      ]
     },
     "metadata": {},
     "output_type": "display_data"
    }
   ],
   "source": [
    "plt.style.use('fivethirtyeight')\n",
    "plt.grid(True, linewidth=0.15)\n",
    "plt.scatter(col_x, col_y, s=0.25, data=df2plot) #c='c', s='d'\n",
    "if bool_show_regression:\n",
    "    df2plot[\"regression_line\"] = m * df2plot[col_x] + b \n",
    "    plt.plot(df2plot[col_x].to_list(), df2plot[\"regression_line\"].to_list(), c='red', linewidth=0.25)\n",
    "    plt.text(6, 10.5, in_txt) \n",
    "plt.xlabel(x_lab)\n",
    "plt.ylabel(y_lab)\n",
    "plt.title(title)\n",
    "plt.show()"
   ]
  },
  {
   "cell_type": "code",
   "execution_count": null,
   "id": "7d647f90",
   "metadata": {},
   "outputs": [],
   "source": []
  }
 ],
 "metadata": {
  "kernelspec": {
   "display_name": "Python 3 (ipykernel)",
   "language": "python",
   "name": "python3"
  },
  "language_info": {
   "codemirror_mode": {
    "name": "ipython",
    "version": 3
   },
   "file_extension": ".py",
   "mimetype": "text/x-python",
   "name": "python",
   "nbconvert_exporter": "python",
   "pygments_lexer": "ipython3",
   "version": "3.10.12"
  }
 },
 "nbformat": 4,
 "nbformat_minor": 5
}
