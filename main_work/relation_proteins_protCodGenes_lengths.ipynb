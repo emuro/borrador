{
 "cells": [
  {
   "cell_type": "markdown",
   "id": "4e158002-7422-422c-89ca-fbaacb381b27",
   "metadata": {
    "tags": []
   },
   "source": [
    "# Threshold in the relationship between mean protein and protein coding gene lengths \n",
    "**for the different species for which we have annotations for both proteins (reference proteomes) and protein coding genes** "
   ]
  },
  {
   "cell_type": "markdown",
   "id": "8046a185-31f3-48b1-83f7-947911a96d15",
   "metadata": {},
   "source": [
    "## Import python modules"
   ]
  },
  {
   "cell_type": "code",
   "execution_count": 1,
   "id": "51b0a90c",
   "metadata": {},
   "outputs": [
    {
     "ename": "NameError",
     "evalue": "name 'WORKING_ON_TABLES_PATH' is not defined",
     "output_type": "error",
     "traceback": [
      "\u001b[0;31m---------------------------------------------------------------------------\u001b[0m",
      "\u001b[0;31mNameError\u001b[0m                                 Traceback (most recent call last)",
      "Cell \u001b[0;32mIn[1], line 8\u001b[0m\n\u001b[1;32m      6\u001b[0m \u001b[38;5;28;01mimport\u001b[39;00m \u001b[38;5;21;01msys\u001b[39;00m\n\u001b[1;32m      7\u001b[0m sys\u001b[38;5;241m.\u001b[39mpath\u001b[38;5;241m.\u001b[39mappend(\u001b[38;5;124m'\u001b[39m\u001b[38;5;124m../gl_lib/\u001b[39m\u001b[38;5;124m'\u001b[39m)\n\u001b[0;32m----> 8\u001b[0m \u001b[38;5;28;01mimport\u001b[39;00m \u001b[38;5;21;01mgl_constants\u001b[39;00m \u001b[38;5;28;01mas\u001b[39;00m \u001b[38;5;21;01mc\u001b[39;00m\n\u001b[1;32m      9\u001b[0m \u001b[38;5;28;01mimport\u001b[39;00m \u001b[38;5;21;01mgl_retrieve_data__functions\u001b[39;00m \u001b[38;5;28;01mas\u001b[39;00m \u001b[38;5;21;01mrd\u001b[39;00m\n\u001b[1;32m     10\u001b[0m \u001b[38;5;66;03m# Initialize parameters\u001b[39;00m\n",
      "File \u001b[0;32m~/git/github/borrador/main_work/../gl_lib/gl_constants.py:45\u001b[0m\n\u001b[1;32m     43\u001b[0m STAT_MERGED_FILE   \u001b[38;5;241m=\u001b[39m MAIN_TABLES_PATH \u001b[38;5;241m+\u001b[39m \u001b[38;5;124m\"\u001b[39m\u001b[38;5;124mstat_merged.tsv\u001b[39m\u001b[38;5;124m\"\u001b[39m\n\u001b[1;32m     44\u001b[0m \u001b[38;5;66;03m#\u001b[39;00m\n\u001b[0;32m---> 45\u001b[0m STAT_MERGED_MEDIAN_MODE_FILE \u001b[38;5;241m=\u001b[39m \u001b[43mWORKING_ON_TABLES_PATH\u001b[49m \u001b[38;5;241m+\u001b[39m \u001b[38;5;124m\"\u001b[39m\u001b[38;5;124mstat_merged_protCodGenes_median_mode.tsv\u001b[39m\u001b[38;5;124m\"\u001b[39m\n\u001b[1;32m     46\u001b[0m GROUP_VERT \u001b[38;5;241m=\u001b[39m WORKING_ON_TABLES_PATH \u001b[38;5;241m+\u001b[39m  \u001b[38;5;124m\"\u001b[39m\u001b[38;5;124mstat_protCodGenes_with_ncbiGenomeData_FerGroup.tsv\u001b[39m\u001b[38;5;124m\"\u001b[39m\n\u001b[1;32m     47\u001b[0m \u001b[38;5;66;03m#\u001b[39;00m\n",
      "\u001b[0;31mNameError\u001b[0m: name 'WORKING_ON_TABLES_PATH' is not defined"
     ]
    }
   ],
   "source": [
    "import numpy as np\n",
    "from scipy import stats\n",
    "import pandas as pd\n",
    "#\n",
    "from plotnine import *\n",
    "import sys\n",
    "sys.path.append('../gl_lib/')\n",
    "import gl_constants as c\n",
    "import gl_retrieve_data__functions as rd\n",
    "# Initialize parameters\n",
    "BOOL_QUALITY = \"MERGED\"   #\"NOISE_INCLUDING_BAD_ANNOTATIONS\"  #\"MERGED\" \"ONLY_HIGH_QUALITY_GENOMES\"               \n",
    "\n",
    "BOOL_ALSO_THREE_DOMAIN_SYSTEM = 1"
   ]
  },
  {
   "cell_type": "markdown",
   "id": "c7b6d3b5",
   "metadata": {},
   "source": [
    "## The protein and protein coding gene length distributions for the different species"
   ]
  },
  {
   "cell_type": "markdown",
   "id": "d509543a-9bbf-4428-bb98-a287201ef79d",
   "metadata": {
    "tags": []
   },
   "source": [
    "### Retrieving the statistical descriptions of the length's distributions"
   ]
  },
  {
   "cell_type": "code",
   "execution_count": null,
   "id": "86b76b58-6c34-4b8a-82b3-f117e835fad0",
   "metadata": {},
   "outputs": [],
   "source": [
    "# select the distributions for different species \n",
    "if (BOOL_QUALITY == \"MERGED\") or (BOOL_QUALITY == \"ONLY_HIGH_QUALITY_GENOMES\"):\n",
    "    stat_file = c.STAT_MERGED_FILE\n",
    "elif BOOL_QUALITY == \"NOISE_INCLUDING_BAD_ANNOTATIONS\":\n",
    "    stat_file = c.WRONG_ANNOTATIONS_MERGED_FILE\n",
    "if 0:\n",
    "    print(\"The statistical descriptions for the different species is in:\\n\", stat_file, \"\\n\")\n",
    "\n",
    "# retrieve data and diminish the number of columns\n",
    "merged = pd.read_csv(stat_file, low_memory=False, sep=\"\\t\")\n",
    "merged = merged[[\"genes_species\", \"merged_division_superregnum\", \"prots_superregnum\", \"tax_id\",\\\n",
    "                 \"prots_mean\", \"prots_var\", \"genes_mean\", \"genes_var\"]] \n",
    "merged.rename(columns = {\"genes_species\": 'species',\n",
    "                         \"merged_division_superregnum\": 'Group of organisms',\n",
    "                         \"prots_superregnum\": \"Three-domain system\"}, inplace = True)\n",
    "\n",
    "# visualize data\n",
    "if 1:\n",
    "    pd.set_option('display.max_columns', len(merged.columns))\n",
    "    display(merged.sample(2))\n",
    "    print(merged.shape)\n",
    "    print('\\n', merged[\"Group of organisms\"].value_counts(), sep=\"\")"
   ]
  },
  {
   "cell_type": "code",
   "execution_count": null,
   "id": "1db3215e-cc78-415f-9366-c8e7cc274296",
   "metadata": {},
   "outputs": [],
   "source": [
    "if BOOL_QUALITY == \"ONLY_HIGH_QUALITY_GENOMES\":\n",
    "    species_hq__l = rd.from_species_list_retrieve_species_with_HQG(merged[\"species\"].to_list())\n",
    "    merged = merged[merged['species'].isin(species_hq__l)]\n",
    "    # visualize data\n",
    "    if 1:\n",
    "        pd.set_option('display.max_columns', len(merged.columns))\n",
    "        display(merged.sample(2))\n",
    "        print(merged.shape)\n",
    "        print('\\n', merged[\"Group of organisms\"].value_counts(), sep=\"\")"
   ]
  },
  {
   "cell_type": "markdown",
   "id": "7e182be9-5197-409b-a655-450673b950b9",
   "metadata": {},
   "source": [
    "## Python functions"
   ]
  },
  {
   "cell_type": "code",
   "execution_count": null,
   "id": "eaacab97-ecfc-4b57-a5f8-00ef962ae1d5",
   "metadata": {},
   "outputs": [],
   "source": [
    "def plot__comparing_genes_prots(df2plot, col_x, col_y, x_lab, y_lab, title, legend): \n",
    "    # limits and tick-breaks\n",
    "    if 0: # manual set up\n",
    "        x_limits = [300,90000] # [100, 1000]\n",
    "        y_limits = [100, 1100] # [7000, 1200000]\n",
    "    else: # automatic\n",
    "        x_limits=[min(df2plot[col_x].to_list())/1.3, 1.1*max(df2plot[col_x].to_list())]\n",
    "        y_limits=[min(df2plot[col_y].to_list())/1.4, 1.1*max(df2plot[col_y].to_list())]\n",
    "    x_breaks = [500, 1000, 1500, 2000, 2500, 5000, 7500, 10000, 15000, 20000, 30000, 40000, 50000, 80000]\n",
    "    x_breaks = [1000, 1500, 10000, 100000, 200000]\n",
    "    if 0: # check\n",
    "        print(x_limits, y_limits)\n",
    "        print(x_breaks)\n",
    "\n",
    "    palette_colors = c.COLOR_ORG_GROUPS\n",
    "    if (legend =='Three-domain system'):\n",
    "        palette_colors = c.COLOR_KINGDOMS  \n",
    "    p = (   \n",
    "        ggplot(df2plot, aes(col_x, col_y, color=legends_by)) + geom_point(size=0.75)\n",
    "        + geom_hline(yintercept = 500, color=\"gray\", alpha=0.3) # add one horizonal line\n",
    "        + labs(title=title, x=x_lab, y=y_lab) \n",
    "        + scale_color_manual(values=palette_colors)\n",
    "        + labs(color=legend) # legend title\n",
    "        + scale_x_log10(breaks=x_breaks, limits=x_limits)\n",
    "        + scale_y_log10(breaks=[100*x for x in range(1, 11)], limits=y_limits)\n",
    "        + theme(legend_position=(0.95,0.075), legend_key_size=9, legend_background=element_rect(fill='gray', alpha=0.01))  \n",
    "        + theme(figure_size=(18,6)) # preserve the scale of the units nt vs. 3*aa\n",
    "    )\n",
    "    p.show()"
   ]
  },
  {
   "cell_type": "markdown",
   "id": "18ba3213-2717-4580-82d9-f4ee9e5b2cc9",
   "metadata": {},
   "source": [
    "## Comparing the $\\mu$ in different species: proteins vs. protein coding genes ($log10$ scale visualization)"
   ]
  },
  {
   "cell_type": "code",
   "execution_count": null,
   "id": "42601581-be04-4767-9ef3-1a7d6cdea31e",
   "metadata": {},
   "outputs": [],
   "source": [
    "df2plot = merged\n",
    "col_x = \"genes_mean\"\n",
    "col_y = \"prots_mean\"\n",
    "#\n",
    "title = \"Relationship between mean protein and protein coding gene lengths ($log_{10}$ scale)\"\n",
    "x_lab = \"Mean gene length (nt)\"\n",
    "y_lab = \"Mean protein length (aa)\""
   ]
  },
  {
   "cell_type": "markdown",
   "id": "f8845105-e422-4854-a870-5b6d4bd7d2cb",
   "metadata": {},
   "source": [
    "### Three-domain system"
   ]
  },
  {
   "cell_type": "code",
   "execution_count": null,
   "id": "bb4cdbbd-5ae1-4541-aec4-c798436d35f5",
   "metadata": {},
   "outputs": [],
   "source": [
    "if BOOL_ALSO_THREE_DOMAIN_SYSTEM:\n",
    "    legends_by = \"Three-domain system\"\n",
    "    plot__comparing_genes_prots(df2plot, col_x, col_y, x_lab, y_lab, title, legends_by)"
   ]
  },
  {
   "cell_type": "markdown",
   "id": "783e94c4-14d8-4943-97cc-9692d346e146",
   "metadata": {},
   "source": [
    "### Groups of organisms"
   ]
  },
  {
   "cell_type": "code",
   "execution_count": null,
   "id": "84442cce-8cfd-4a68-8289-03f9237274c5",
   "metadata": {},
   "outputs": [],
   "source": [
    "legends_by = \"Group of organisms\"\n",
    "\n",
    "# Sort \n",
    "df2plot[legends_by] = pd.Categorical(df2plot[legends_by], \n",
    "                                    categories=c.ORG_GROUPS,           \n",
    "                                    ordered=True)\n",
    "df2plot.sort_values(legends_by, inplace=True)\n",
    "plot__comparing_genes_prots(df2plot, col_x, col_y, x_lab, y_lab, title, legends_by)"
   ]
  },
  {
   "cell_type": "markdown",
   "id": "0262e863-7ea5-43e9-a18a-d79e36372cfa",
   "metadata": {},
   "source": [
    "**Figure caption:**   \n",
    "Each point represents, for one species, the mean protein coding gene length versus the mean protein length. The horizontal line describes the trend observed in these data, going from a regime in which the average length of the proteins grows proportionally (x3) to the average size of the genes, to another in which the length of the protein stabilizes and does not depend on gene length; $\\mu_{c}$=(1500nt, 500aa)."
   ]
  }
 ],
 "metadata": {
  "kernelspec": {
   "display_name": "Python 3 (ipykernel)",
   "language": "python",
   "name": "python3"
  },
  "language_info": {
   "codemirror_mode": {
    "name": "ipython",
    "version": 3
   },
   "file_extension": ".py",
   "mimetype": "text/x-python",
   "name": "python",
   "nbconvert_exporter": "python",
   "pygments_lexer": "ipython3",
   "version": "3.10.12"
  }
 },
 "nbformat": 4,
 "nbformat_minor": 5
}
